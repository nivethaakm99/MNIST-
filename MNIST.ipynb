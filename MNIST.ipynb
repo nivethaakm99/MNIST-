{
  "nbformat": 4,
  "nbformat_minor": 0,
  "metadata": {
    "colab": {
      "name": "MNIST.ipynb",
      "provenance": [],
      "authorship_tag": "ABX9TyMUtzSDaOJgMwM9KTpPfwwR",
      "include_colab_link": true
    },
    "kernelspec": {
      "name": "python3",
      "display_name": "Python 3"
    }
  },
  "cells": [
    {
      "cell_type": "markdown",
      "metadata": {
        "id": "view-in-github",
        "colab_type": "text"
      },
      "source": [
        "<a href=\"https://colab.research.google.com/github/nivethaakm99/MNIST-/blob/master/MNIST.ipynb\" target=\"_parent\"><img src=\"https://colab.research.google.com/assets/colab-badge.svg\" alt=\"Open In Colab\"/></a>"
      ]
    },
    {
      "cell_type": "code",
      "metadata": {
        "id": "aCdeiNoQDeNA"
      },
      "source": [
        "#importing the necessary packages\n",
        "\n",
        "import math\n",
        "import numpy as np\n",
        "import h5py\n",
        "from matplotlib.pyplot import imshow\n",
        "import scipy\n",
        "from keras.datasets import mnist\n",
        "from keras import layers\n",
        "from keras.layers import Input, ZeroPadding2D, Conv2D, BatchNormalization, Activation, Dense, Flatten, MaxPooling2D\n",
        "from keras.models import Model, Sequential\n",
        "from keras.utils import to_categorical\n",
        "from matplotlib import pyplot as plt\n",
        "import cv2"
      ],
      "execution_count": 13,
      "outputs": []
    },
    {
      "cell_type": "code",
      "metadata": {
        "id": "MT-h9XHpEjBx",
        "outputId": "e9678774-0c66-4bd1-d05b-0e1e933b63d7",
        "colab": {
          "base_uri": "https://localhost:8080/",
          "height": 51
        }
      },
      "source": [
        "# Loading the dataset \n",
        "\n",
        "(xtrain,ytrain),(xtest,ytest)= mnist.load_data()"
      ],
      "execution_count": 14,
      "outputs": [
        {
          "output_type": "stream",
          "text": [
            "Downloading data from https://storage.googleapis.com/tensorflow/tf-keras-datasets/mnist.npz\n",
            "11493376/11490434 [==============================] - 0s 0us/step\n"
          ],
          "name": "stdout"
        }
      ]
    },
    {
      "cell_type": "code",
      "metadata": {
        "id": "os-V9hYvEnzt"
      },
      "source": [
        "#Normlize and reshaping the dataset\n",
        "\n",
        "xtrain = xtrain.reshape(xtrain.shape[0], xtrain.shape[1], xtrain.shape[2], 1).astype('float32')\n",
        "xtest = xtest.reshape(xtest.shape[0], xtest.shape[1], xtest.shape[2], 1).astype('float32')\n",
        "\n",
        "xtrain = xtrain/255\n",
        "xtest = xtest/255 \n",
        "\n",
        "input_shape = xtrain.shape[1:]"
      ],
      "execution_count": 15,
      "outputs": []
    },
    {
      "cell_type": "code",
      "metadata": {
        "id": "vyLEck2ZOyvV",
        "outputId": "e887ec8b-12db-4896-e53d-6211b202db82",
        "colab": {
          "base_uri": "https://localhost:8080/",
          "height": 102
        }
      },
      "source": [
        "print(\"xtrain:\",xtrain.shape)\n",
        "print(\"ytrain:\",ytrain.shape)\n",
        "print(\"xtest:\",xtest.shape)\n",
        "print(\"ytest:\",ytest.shape)\n",
        "print(\"model input shape:\",input_shape)"
      ],
      "execution_count": 16,
      "outputs": [
        {
          "output_type": "stream",
          "text": [
            "xtrain: (60000, 28, 28, 1)\n",
            "ytrain: (60000,)\n",
            "xtest: (10000, 28, 28, 1)\n",
            "ytest: (10000,)\n",
            "model input shape: (28, 28, 1)\n"
          ],
          "name": "stdout"
        }
      ]
    },
    {
      "cell_type": "code",
      "metadata": {
        "id": "mmbWSot_Pqtj"
      },
      "source": [
        "#defining the model\n",
        "\n",
        "def mnist_model(input_shape):\n",
        "  model = Sequential()\n",
        "  model.add(Conv2D(32, (3,3), activation='relu', input_shape=input_shape))\n",
        "  model.add(BatchNormalization())\n",
        "  model.add(MaxPooling2D(2,2))\n",
        "  model.add(BatchNormalization())\n",
        "  model.add(Conv2D(64, (3,3), activation='relu'))\n",
        "  model.add(BatchNormalization())\n",
        "  model.add(MaxPooling2D(2,2))\n",
        "  model.add(BatchNormalization())\n",
        "  model.add(Flatten())\n",
        "  model.add(Dense(256, activation='relu'))\n",
        "  model.add(BatchNormalization())\n",
        "  model.add(Dense(10, activation='softmax'))\n",
        "  return model\n"
      ],
      "execution_count": 17,
      "outputs": []
    },
    {
      "cell_type": "code",
      "metadata": {
        "id": "0WowsPwScEnr"
      },
      "source": [
        "mnist_model = mnist_model(input_shape)\n",
        "mnist_model.compile(optimizer='adam', loss='sparse_categorical_crossentropy', metrics=['accuracy'])"
      ],
      "execution_count": 18,
      "outputs": []
    },
    {
      "cell_type": "code",
      "metadata": {
        "id": "-s4R5trldUBf",
        "outputId": "b8b5fb4a-044a-48a1-995e-ca8c8d4f7a69",
        "colab": {
          "base_uri": "https://localhost:8080/",
          "height": 377
        }
      },
      "source": [
        "history=mnist_model.fit(xtrain, ytrain, epochs=10, batch_size=250, validation_split=0.2)"
      ],
      "execution_count": 42,
      "outputs": [
        {
          "output_type": "stream",
          "text": [
            "Epoch 1/10\n",
            "192/192 [==============================] - 51s 267ms/step - loss: 0.0137 - accuracy: 0.9954 - val_loss: 0.0166 - val_accuracy: 0.9942\n",
            "Epoch 2/10\n",
            "192/192 [==============================] - 51s 264ms/step - loss: 0.0045 - accuracy: 0.9986 - val_loss: 0.0065 - val_accuracy: 0.9979\n",
            "Epoch 3/10\n",
            "192/192 [==============================] - 50s 262ms/step - loss: 0.0012 - accuracy: 0.9998 - val_loss: 0.0041 - val_accuracy: 0.9987\n",
            "Epoch 4/10\n",
            "192/192 [==============================] - 50s 262ms/step - loss: 3.5916e-04 - accuracy: 1.0000 - val_loss: 0.0032 - val_accuracy: 0.9991\n",
            "Epoch 5/10\n",
            "192/192 [==============================] - 50s 262ms/step - loss: 2.0566e-04 - accuracy: 1.0000 - val_loss: 0.0031 - val_accuracy: 0.9992\n",
            "Epoch 6/10\n",
            "192/192 [==============================] - 50s 263ms/step - loss: 1.4787e-04 - accuracy: 1.0000 - val_loss: 0.0028 - val_accuracy: 0.9994\n",
            "Epoch 7/10\n",
            "192/192 [==============================] - 51s 263ms/step - loss: 1.1301e-04 - accuracy: 1.0000 - val_loss: 0.0026 - val_accuracy: 0.9995\n",
            "Epoch 8/10\n",
            "192/192 [==============================] - 50s 261ms/step - loss: 9.2919e-05 - accuracy: 1.0000 - val_loss: 0.0026 - val_accuracy: 0.9995\n",
            "Epoch 9/10\n",
            "192/192 [==============================] - 51s 264ms/step - loss: 8.1649e-05 - accuracy: 1.0000 - val_loss: 0.0026 - val_accuracy: 0.9995\n",
            "Epoch 10/10\n",
            "192/192 [==============================] - 51s 267ms/step - loss: 6.7361e-05 - accuracy: 1.0000 - val_loss: 0.0024 - val_accuracy: 0.9995\n"
          ],
          "name": "stdout"
        }
      ]
    },
    {
      "cell_type": "code",
      "metadata": {
        "id": "NfFho1dDsgp9",
        "outputId": "b9c01398-94f4-44b6-9ccf-f545a99cd725",
        "colab": {
          "base_uri": "https://localhost:8080/",
          "height": 337
        }
      },
      "source": [
        "#loss and accuracy of training and validation \n",
        "\n",
        "plt.subplot(211)\n",
        "plt.title('Loss')\n",
        "plt.plot(history.history['loss'], color='blue', label='train')\n",
        "plt.plot(history.history['val_loss'], color='orange', label='test')\n",
        "plt.ylabel('Loss')\n",
        "plt.xlabel('No. epoch')\n",
        "plt.show()\n",
        "plt.subplot(212)\n",
        "plt.title('Accuracy')\n",
        "plt.plot(history.history['accuracy'], color='blue', label='train')\n",
        "plt.plot(history.history['val_accuracy'], color='orange', label='test')\n",
        "plt.ylabel('Accuracy')\n",
        "plt.xlabel('No. epoch')\n",
        "plt.show()"
      ],
      "execution_count": 50,
      "outputs": [
        {
          "output_type": "display_data",
          "data": {
            "image/png": "[encoded data removed]",
            "text/plain": [
              "<Figure size 432x288 with 1 Axes>"
            ]
          },
          "metadata": {
            "tags": [],
            "needs_background": "light"
          }
        },
        {
          "output_type": "display_data",
          "data": {
            "image/png": "[encoded data removed]",
            "text/plain": [
              "<Figure size 432x288 with 1 Axes>"
            ]
          },
          "metadata": {
            "tags": [],
            "needs_background": "light"
          }
        }
      ]
    },
    {
      "cell_type": "code",
      "metadata": {
        "id": "ucz5MDgwfG5_",
        "outputId": "329a7f63-da76-48ee-ccc3-a0f4af69cd7b",
        "colab": {
          "base_uri": "https://localhost:8080/",
          "height": 68
        }
      },
      "source": [
        "#evaluation and saving the model\n",
        "\n",
        "loss,accuracy = mnist_model.evaluate(xtest, ytest, verbose=0)\n",
        "print(\"loss=\",loss)\n",
        "print(\"accuracy=\",accuracy)\n",
        "\n",
        "mnist_model.save_weights(\"mnist_model.h5\")\n",
        "print(\"Model Saved!\")"
      ],
      "execution_count": 52,
      "outputs": [
        {
          "output_type": "stream",
          "text": [
            "loss= 0.025104139000177383\n",
            "accuracy= 0.9932000041007996\n",
            "Model Saved!\n"
          ],
          "name": "stdout"
        }
      ]
    },
    {
      "cell_type": "code",
      "metadata": {
        "id": "Pyso51FJKAAR",
        "outputId": "c92ac3a3-c63c-42bf-82e8-84956a443fcc",
        "colab": {
          "base_uri": "https://localhost:8080/",
          "height": 198
        }
      },
      "source": [
        "#Detecting the digits in the image to classify them seperately.\n",
        "#the threshold is set high(212) since the handwritten digits is not dark enough.\n",
        "\n",
        "image = cv2.imread('predict.jpg')\n",
        "grey = cv2.cvtColor(image.copy(), cv2.COLOR_BGR2GRAY)\n",
        "grey = cv2.GaussianBlur(grey, (7, 7), 0)\n",
        "ret, thresh = cv2.threshold(grey.copy(), 212, 300, cv2.THRESH_BINARY_INV)\n",
        "contours, _ = cv2.findContours(thresh.copy(), cv2.RETR_EXTERNAL, cv2.CHAIN_APPROX_SIMPLE)\n",
        "\n",
        "preprocessed_digits = []\n",
        "rect_areas = []\n",
        "\n",
        "#to eliminate the unwanted noises, the mean of all the bounding boxes is considered\n",
        "for c in contours:\n",
        "    (x, y, w, h) = cv2.boundingRect(c)\n",
        "    rect_areas.append(w * h)\n",
        "avg_area = np.mean(rect_areas)\n",
        "    \n",
        "for c in contours:\n",
        "    x,y,w,h = cv2.boundingRect(c)\n",
        "    cnt_area = w * h\n",
        "    if not cnt_area < 0.5 * avg_area:\n",
        "            \n",
        "            cv2.rectangle(image, (x,y), (x+w, y+h), color=(0, 255, 0), thickness=4)\n",
        "            digit = thresh[y:y+h, x:x+w]\n",
        "            resized_digit = cv2.resize(digit, (18,18))\n",
        "            padded_digit = np.pad(resized_digit, ((5,5),(5,5)), \"constant\", constant_values=0)\n",
        "            preprocessed_digits.append(padded_digit)\n",
        "\n",
        "plt.imshow(image, cmap=\"gray\")\n",
        "plt.show()\n",
        "    \n",
        "inp = np.array(preprocessed_digits)"
      ],
      "execution_count": 37,
      "outputs": [
        {
          "output_type": "display_data",
          "data": {
            "image/png": "[encoded data removed]",
            "text/plain": [
              "<Figure size 432x288 with 1 Axes>"
            ]
          },
          "metadata": {
            "tags": [],
            "needs_background": "light"
          }
        }
      ]
    },
    {
      "cell_type": "code",
      "metadata": {
        "id": "ci0Ji3F-ccWK",
        "outputId": "f9304ce9-6574-400f-b3cb-1dcaf3dc64e3",
        "colab": {
          "base_uri": "https://localhost:8080/",
          "height": 897
        }
      },
      "source": [
        "#Output\n",
        "\n",
        "ans= []\n",
        "for digit in preprocessed_digits:\n",
        "    prediction = mnist_model.predict(digit.reshape(1, 28, 28, 1)) \n",
        "    plt.subplot()\n",
        "    plt.imshow(digit.reshape(28, 28), cmap=\"gray\")\n",
        "    plt.show()\n",
        "    print(\"Digit:{}\".format(np.argmax(prediction)))\n",
        "    ans.append(np.argmax(prediction))\n",
        "print(\"\\n\\n----------------------PREDICTED OUTPUT--------------------\\n\")\n",
        "print(*ans)"
      ],
      "execution_count": 38,
      "outputs": [
        {
          "output_type": "display_data",
          "data": {
            "image/png": "[encoded data removed]",
            "text/plain": [
              "<Figure size 432x288 with 1 Axes>"
            ]
          },
          "metadata": {
            "tags": [],
            "needs_background": "light"
          }
        },
        {
          "output_type": "stream",
          "text": [
            "Digit:2\n"
          ],
          "name": "stdout"
        },
        {
          "output_type": "display_data",
          "data": {
            "image/png": "[encoded data removed]",
            "text/plain": [
              "<Figure size 432x288 with 1 Axes>"
            ]
          },
          "metadata": {
            "tags": [],
            "needs_background": "light"
          }
        },
        {
          "output_type": "stream",
          "text": [
            "Digit:3\n"
          ],
          "name": "stdout"
        },
        {
          "output_type": "display_data",
          "data": {
            "image/png": "[encoded data removed]",
            "text/plain": [
              "<Figure size 432x288 with 1 Axes>"
            ]
          },
          "metadata": {
            "tags": [],
            "needs_background": "light"
          }
        },
        {
          "output_type": "stream",
          "text": [
            "Digit:5\n",
            "\n",
            "\n",
            "----------------------PREDICTED OUTPUT--------------------\n",
            "\n",
            "2 3 5\n"
          ],
          "name": "stdout"
        }
      ]
    },
    {
      "cell_type": "code",
      "metadata": {
        "id": "hu-f83PKdz8G"
      },
      "source": [
        ""
      ],
      "execution_count": 32,
      "outputs": []
    }
  ]
}